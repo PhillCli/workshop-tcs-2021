{
 "cells": [
  {
   "cell_type": "markdown",
   "metadata": {
    "deletable": true,
    "editable": true
   },
   "source": [
    "\n",
    "# Wstęp do Pythona i Jupytera\n",
    "oryginalni autorzy: *Roberto Di Remigio*, *Luca Frediani*,\n",
    "tłumaczenie polskie i korekta: *Filip Brzęk*\n",
    "\n",
    "W trakcie tego kursu będziemy używać języka [Python] w celu prześledzenia kilku ćwiczeń obrazujących wybrane metody obliczeniowe w mechanice kwantowej.\n",
    "Ekosystem Pythona umożliwia korzystanie z interaktywnych notatników, które pozwalają na interaktywną pracę z kodem [Jupyter notebooks].\n",
    "\n",
    "Będą mieli państwo możliwość oglądania i uruchamiania zadań w przeglądarce, jednakże zalecana jest, do celów ćwiczeniowych, lokalna instalacja [Python]a. Najłatwiejszą metodą instalacji działającej dystrybucji Pythona jest [Anaconda]. Instrukcja jak ją zainstalować znajduje się [tutaj].\n",
    "\n",
    "\n",
    "[Python]: https://en.wikipedia.org/wiki/Python_(programming_language)\n",
    "[Jupyter notebooks]: https://jupyter.readthedocs.org\n",
    "[Anaconda]: https://docs.anaconda.com/\n",
    "[tutaj]: https://docs.continuum.io/anaconda/install/\n",
    "\n",
    "## Dlaczego Python?\n",
    "\n",
    "Python jest interpretowanym językiem ogólnego przeznaczenia, którego prostota składni oraz możliwość prostego skryptowania, sprawiła, że stał on się jednym z bardziej popularnych języków programowania. Może być (i jest) używany w każdej dziedzinie nauki oraz szerokopojętego IT. Może być wykorzystywany jako prosty kalkulator, narzędzie do wizualizacji danych, obliczeń symbolicznych oraz solvera problemów z [algebry liniowej].\n",
    "\n",
    "[danych]: http://matplotlib.org/\n",
    "[symbolicznych]: http://www.sympy.org/en/index.html\n",
    "[algebry liniowej]: http://www.numpy.org/\n",
    "\n",
    "\n",
    "W sieci dostępne jest dużo źródeł wiedzy pozwalających na naukę Pythona. Jednym z godnych polecenia, jest seria [Marka Bakkera] poświęcona Jupyter Notebooks. Obejmuje szeroki zakres niezbędnych podstaw oraz jest uzupełniona zrzutami ekranu notebooków, pozwalających na łatwe przyswojenie podstaw składni Pythona. Innym godnym polecenia źródłem wiedzy jest książka o angielskim tytule [Learning IPython for Interactive Computing and Data Visualization] autorstwa Cyrille Roussant. Dostępny jest też szereg tutoriali dostępnych pod tym [adresem].\n",
    "\n",
    "\n",
    "[Marka Bakkera]: http://mbakker7.github.io/exploratory_computing_with_python/\n",
    "[Learning IPython for Interactive Computing and Data Visualization]: http://ipython-books.github.io/minibook/\n",
    "[adresem]: https://www.datacamp.com/community/tutorials/tutorial-jupyter-notebook#gs.svdmCKs\n",
    "\n",
    "## Pierwsze Kroki\n",
    "\n",
    "Zacznijmy od wykorzystania Pythona w roli kalkulatora. W notebookach Jupyter'a Występują różne rodzaje **komórek** (ang. *cells*). Będziemy używać głównie **komórek kodu** do pisania i wykonywania skryptów oraz **komórek Markdown** do pisania komentarzy do kodu. Komórka Markdown to tylko tekst. Możesz dodawać obrazy, a także równania, używając $\\LaTeX$:\n",
    "\n",
    "\\begin{equation}\n",
    "    f(x) = ax^2 + bx + c\n",
    "\\end{equation}\n",
    "\n",
    "Komórki kodu zawierają kod Pythona. Każda komórka kodu ma sekcję wejściową (ang. *\\[in\\]*) i wyjściową (ang. *\\[out\\]*). Sekcja input zawiera kod, który piszecie, sekcja output zawiera wyniki wykonania kodu. Przesuńcie kursor do komórki kodu znajdującej się tuż pod tą komórką Markdown i naciśnijcie \\[shift\\]\\[Enter\\]. Spowoduje to wykonanie kodu komórki i wypisanie wyniku do sekcji wyjściowej.\n"
   ]
  },
  {
   "cell_type": "code",
   "execution_count": null,
   "metadata": {
    "collapsed": false,
    "deletable": true,
    "editable": true
   },
   "outputs": [],
   "source": [
    "6 * 2"
   ]
  },
  {
   "cell_type": "markdown",
   "metadata": {
    "deletable": true,
    "editable": true
   },
   "source": [
    "Podczas programowania możecie (**i powinniście**) używać zmiennych do przechowywania wartości, dzięki czemu możecie odwoływać się do nich później w swoim kodzie. Naciśnięcie \\[shift\\]\\[Enter\\] zawsze wywoła ocenę komórki kodu i pokaże wyniki."
   ]
  },
  {
   "cell_type": "code",
   "execution_count": null,
   "metadata": {
    "collapsed": false,
    "deletable": true,
    "editable": true
   },
   "outputs": [],
   "source": [
    "a = 6\n",
    "b = 2\n",
    "a * b"
   ]
  },
  {
   "cell_type": "markdown",
   "metadata": {
    "deletable": true,
    "editable": true
   },
   "source": [
    "\n",
    "W celu wypisania wartości zmiennych, użyć można funkcji wbudowanej `print`."
   ]
  },
  {
   "cell_type": "code",
   "execution_count": null,
   "metadata": {
    "collapsed": false,
    "deletable": true,
    "editable": true
   },
   "outputs": [],
   "source": [
    "a = 6\n",
    "b = 2\n",
    "c = a * b\n",
    "print(a)\n",
    "print(b)\n",
    "print(c)"
   ]
  },
  {
   "cell_type": "markdown",
   "metadata": {
    "deletable": true,
    "editable": true
   },
   "source": [
    "Oczywiście możemy dodać więcej informacji do wydruku! Linia rozpoczynająca się od `#` jest komentarzem, interpreter po prostu go zignoruje. Przydaje się dodawanie komentarzy, aby przypomnieć sobie i innym, co próbowaliście zrobić pisząc kod 😉"
   ]
  },
  {
   "cell_type": "code",
   "execution_count": null,
   "metadata": {
    "collapsed": false,
    "deletable": true,
    "editable": true
   },
   "outputs": [],
   "source": [
    "a = 6 # Assign value to a\n",
    "b = 2 # Assign value to b\n",
    "c = a * b # Perform operation\n",
    "# Now print everything out!\n",
    "print('a =', a)\n",
    "print('b =', b)\n",
    "print('c =', c)"
   ]
  },
  {
   "cell_type": "markdown",
   "metadata": {
    "deletable": true,
    "editable": true
   },
   "source": [
    "## Moduły w Pythonie: podstawowe rysunki przy pomocy matplotlib\n",
    "\n",
    "Kiedy po raz pierwszy instalujecie i uruchamiacie interpreter Pythona (program uruchamiający polecenia), nie możecie wiele zrobić. Na szczęście Python został zaprojektowany tak, aby był wysoce rozszerzalny przy użyciu niezależnych pakietów zwanych **modułami** (ang. *modules*). Wiele funkcji, które sprawiają, że Python jest atrakcyjny, jest dostarczanych za pośrednictwem modułów. Moduł to zbiór funkcji zaprojektowanych, klas i interfejsów do wykonywania konkretnego zestawu zadań.\n",
    "\n",
    "Na przykład moduł [matplotlib] udostępnia funkcje potrzebne do tworzenia wykresów w Pythonie. Aby z niego skorzystać, musimy go zaimportować. Istnieje wiele różnych sposobów importowania modułu, na razie importujemy tylko część odpowiedzialną za rysowanie z `matplotlib` i nazywamy ją `plt`. Drugie polecenie zapewnia, że wykresy są generowane w tym Notebooku, a nie w osobnym oknie.\n",
    "\n",
    "\n",
    "[`matplotlib`]: http://matplotlib.org/"
   ]
  },
  {
   "cell_type": "code",
   "execution_count": null,
   "metadata": {
    "collapsed": false,
    "deletable": true,
    "editable": true
   },
   "outputs": [],
   "source": [
    "import matplotlib.pyplot as plt\n",
    "# make sure we see it on this notebook\n",
    "%matplotlib inline"
   ]
  },
  {
   "cell_type": "markdown",
   "metadata": {
    "deletable": true,
    "editable": true
   },
   "source": [
    "Moduły muszą być zaimportowane tylko raz w danej sesji Jupyter. Po zaimportowaniu funkcję rysującą wykres można wywołać z dowolnej komórki kodu poprzez `plt.function`. Wyrysujemy teraz funkcję, której wartości zostały stabularyzowane:\n",
    "\n",
    "\n",
    " x | y\n",
    "---|---\n",
    " 0 | 1 \n",
    " 1 | 2 \n",
    " 2 | 3 \n",
    " 3 | 5 \n",
    " 4 | 2 \n",
    " 5 | 6 "
   ]
  },
  {
   "cell_type": "code",
   "execution_count": null,
   "metadata": {
    "collapsed": false,
    "deletable": true,
    "editable": true
   },
   "outputs": [],
   "source": [
    "import matplotlib.pyplot as plt\n",
    "# make sure we see it on this notebook\n",
    "%matplotlib inline\n",
    "x = [0, 1, 2, 3, 4, 5]\n",
    "y = [1, 2, 3, 5, 2, 6]\n",
    "plt.plot(x, y)\n",
    "plt.show()"
   ]
  },
  {
   "cell_type": "markdown",
   "metadata": {
    "collapsed": true,
    "deletable": true,
    "editable": true
   },
   "source": [
    "## Moduły w Pythonie: tablice `numpy`\n",
    "  \n",
    "The function we want to plot is:\n",
    "OK, narysujmy wykres czegoś ciekawszego. Funkcja, którą chcemy wykreślić to:\n",
    "\n",
    "\\begin{equation}\n",
    "  f(x) = 10x^3\\mathrm{e}^{-x^2} + \\frac{\\sin(x^5)}{\\cos(x^3)}\n",
    "\\end{equation}\n",
    "\n",
    "Jak za to się zabrać? Moglibyśmy oczywiście stworzyć tabelę par $x, y$ i podać ją do funkcji `plt.plot`, jak w powyższym przykładzie, ale to zbyt żmudne. Na ratunek przychodzi moduł `numpy`. Zaimportujmy `numpy` i nadajmy mu nazwę `np`:\n",
    "\n",
    "[`numpy`]: http://www.numpy.org/"
   ]
  },
  {
   "cell_type": "code",
   "execution_count": null,
   "metadata": {
    "collapsed": true,
    "deletable": true,
    "editable": true
   },
   "outputs": [],
   "source": [
    "import numpy as np  # standard numpy import"
   ]
  },
  {
   "cell_type": "markdown",
   "metadata": {
    "deletable": true,
    "editable": true
   },
   "source": [
    "Następnie tworzymy **tablicę**, na przykład, 10 równo rozmieszczonych punktów między -4 a +4 za pomocą polecenia `np.linspace`. Ta tablica będzie zawierać wartości zmiennych `x`, w których będziemy wyliczać wartość funkcji $f(x)$.\n"
   ]
  },
  {
   "cell_type": "code",
   "execution_count": null,
   "metadata": {
    "collapsed": false,
    "deletable": true,
    "editable": true
   },
   "outputs": [],
   "source": [
    "N = 10\n",
    "x = np.linspace(-4, 4, N)\n",
    "print(x)"
   ]
  },
  {
   "cell_type": "markdown",
   "metadata": {
    "deletable": true,
    "editable": true
   },
   "source": [
    "Następnie jest wyznaczymy wartość $f(x)$ we wszystkich punktach $x$ wymienionych w tablicy `x` i zapisanie wyników w innej tablicy, którą nazwiemy `y`:"
   ]
  },
  {
   "cell_type": "code",
   "execution_count": null,
   "metadata": {
    "collapsed": false,
    "deletable": true,
    "editable": true
   },
   "outputs": [],
   "source": [
    "y = 10 * x**3 * np.exp(-x**2) + np.sin(x**5) / np.cos(x**3)\n",
    "print(y)"
   ]
  },
  {
   "cell_type": "markdown",
   "metadata": {
    "deletable": true,
    "editable": true
   },
   "source": [
    "Zauważcie, że::\n",
    "\n",
    "1. Podnoszenie do potęgi zapisujemy jako `x**3`, a **nie** `x^3`\n",
    "\n",
    "2. Funkcja wykładnicza, sinus i cosinus pochodzą z biblioteki `numpy`. Wywołujemy jest poprzez `np.sin`, `np.sin` i `np.cos`.\n",
    "Jako argument przekazujemy wczęśniej wyliczone wartości `x` w postaci `np.array`.\n",
    "Jesteśmy gotowi do stworzenia wykresu $f(x)$ "
   ]
  },
  {
   "cell_type": "code",
   "execution_count": null,
   "metadata": {
    "collapsed": false,
    "deletable": true,
    "editable": true
   },
   "outputs": [],
   "source": [
    "import matplotlib.pyplot as plt\n",
    "# make sure we see it on this notebook\n",
    "%matplotlib inline\n",
    "plt.plot(x, y)"
   ]
  },
  {
   "cell_type": "markdown",
   "metadata": {
    "deletable": true,
    "editable": true
   },
   "source": [
    "Gotowe! OK, nie wygląda to zbyt dobrze. To dlatego, że używamy tylko 10 punktów próbkowania (punkty w których wyznaczamy wartość funkcji). Spróbujcie zmienić liczbę punktów generowanych przez `np.linspace` z `N=10` na inną, wyższą wartość. Uruchomcie ponownie wszystkie komórki i zobaczcie, jak wygląda nowy wykres.\n",
    "\n",
    "Możemy zaimplementować kilka udogodnień. Przede wszystkim możemy zdefiniować funkcję Pythona do obliczania $f(x)$ . Następnie możemy ponownie użyć tej funkcji, gdziekolwiek chcemy, zamiast wpisywać ją za każdym razem! \n",
    "\n",
    "**Definicja funkcji w języku Python**:\n",
    "\n",
    "1. Zaczyna się od wyrażenia definicji - `def`, \n",
    "\n",
    "2. Po którym podajemy nazwę funkcji,\n",
    "\n",
    "3. W nawiasach podajemy, oddzielona przecinkami, listę argumentów funkcji. W tym przypadku tablica `numpy` z $x$ punktami.\n",
    "\n",
    "4. dwukropek\n",
    "\n",
    "5. Ciało funkcji: funkcja zwraca wartość wyliczoną zgodnie ze wcześniejszą defnicją $f(x)#, proszę zwrócić uwagę, że zwracana jest **tablica**."
   ]
  },
  {
   "cell_type": "code",
   "execution_count": null,
   "metadata": {
    "collapsed": true,
    "deletable": true,
    "editable": true
   },
   "outputs": [],
   "source": [
    "import numpy as np\n",
    "\n",
    "def my_first_function(x):    \n",
    "    return 10 * x**3 * np.exp(-x**2) + np.sin(x**5) / np.cos(x**3)"
   ]
  },
  {
   "cell_type": "code",
   "execution_count": null,
   "metadata": {
    "collapsed": false,
    "deletable": true,
    "editable": true
   },
   "outputs": [],
   "source": [
    "function = my_first_function(x)\n",
    "print(function)"
   ]
  },
  {
   "cell_type": "markdown",
   "metadata": {
    "deletable": true,
    "editable": true
   },
   "source": [
    "Jak widzimy, wywołanie funkcji daje takie same wyniki, jak obliczone powyżej. Jako kolejne ulepszenia dodamy legendę do wykresu, etykiety na osiach  $x$ i $y$ oraz tytuł. Funkcje Pythona w `matplotlib` i numpy przyjmują wiele argumentów. Naciśnięcie \\[shift\\]\\[Tab\\] podczas wpisywania komórki kodu otworzy okno pomocy z wieloma przydatnymi informacjami na temat argumentów funkcji."
   ]
  },
  {
   "cell_type": "code",
   "execution_count": null,
   "metadata": {
    "collapsed": false,
    "deletable": true,
    "editable": true
   },
   "outputs": [],
   "source": [
    "plt.plot(x, my_first_function(x), 'r--')\n",
    "# Write label on x axis\n",
    "plt.xlabel('x-axis')\n",
    "# Write label on y axis\n",
    "plt.ylabel('y-axis')\n",
    "# Write title\n",
    "plt.title('First Python Figure')\n",
    "# Add legend\n",
    "plt.legend('f')"
   ]
  },
  {
   "source": [
    "## Zadania\n",
    "* Wygeneruj wykresy $f(x)$ z poprzedniej części:\n",
    "   \n",
    "   a. dla `N=100`\n",
    "\n",
    "   b. dla `N=1000`\n",
    "\n",
    "   c. korzystając z dokumentacji [styli linii](https://matplotlib.org/stable/gallery/lines_bars_and_markers/linestyles.html), stwórz wykres z zieloną i kropkowaną (ang. *dotted*) linią oraz `N=1000`\n",
    "   \n",
    "    \n",
    "* Wygeneruj wykres o dowolnym stylu, dla funkcji $g(x) = \\frac{sin(x)}{x}$\n",
    "\n",
    "    ```text\n",
    "    UWAGA: $x$ = 0, nie należy do dziedziny funkcji, $g(x)$!\n",
    "    ```\n",
    "\n",
    "    [podpowiedz](https://stackoverflow.com/a/5927244/8389830)\n"
   ],
   "cell_type": "markdown",
   "metadata": {}
  },
  {
   "cell_type": "code",
   "execution_count": null,
   "metadata": {},
   "outputs": [],
   "source": [
    "def zadanie_1_a():\n",
    "    \"\"\"wykres funkcji f(x) dla N=100\n",
    "    \"\"\"\n",
    "    # tutaj zamieść treść realizująca zadanie"
   ]
  },
  {
   "cell_type": "code",
   "execution_count": null,
   "metadata": {},
   "outputs": [],
   "source": [
    "def zadanie_1_b():\n",
    "    \"\"\"wykres funkcji f(x) dla N=1000\n",
    "    \"\"\"\n",
    "    # tutaj zamieść treść realizująca zadanie\n"
   ]
  },
  {
   "cell_type": "code",
   "execution_count": null,
   "metadata": {},
   "outputs": [],
   "source": [
    "def zadanie_1_c():\n",
    "    \"\"\"wykres funkcji f(x) dla N=1000 i zmieniającą styl linii\n",
    "    \"\"\"\n",
    "    # tutaj zamieść treść realizująca zadanie"
   ]
  },
  {
   "cell_type": "code",
   "execution_count": null,
   "metadata": {},
   "outputs": [],
   "source": [
    "def zadanie_2():\n",
    "    \"\"\"wykres funkcji g(x)\n",
    "    \"\"\"\n",
    "    # tutaj zamieść treść realizująca zadanie"
   ]
  }
 ],
 "metadata": {
  "kernelspec": {
   "name": "python3",
   "display_name": "Python 3.8.10 64-bit (conda)"
  },
  "language_info": {
   "codemirror_mode": {
    "name": "ipython",
    "version": 3
   },
   "file_extension": ".py",
   "mimetype": "text/x-python",
   "name": "python",
   "nbconvert_exporter": "python",
   "pygments_lexer": "ipython3",
   "version": "3.8.10"
  },
  "interpreter": {
   "hash": "0689a73c76b5b77bfd596cafbf7ae63dab32e130b1c1a53dbc4070a228d372f2"
  }
 },
 "nbformat": 4,
 "nbformat_minor": 0
}